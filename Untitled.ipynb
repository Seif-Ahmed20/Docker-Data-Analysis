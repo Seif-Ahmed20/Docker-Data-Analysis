{
 "cells": [
  {
   "cell_type": "code",
   "execution_count": 4,
   "id": "c346914c-0024-4b42-a1f5-5677982db077",
   "metadata": {},
   "outputs": [
    {
     "name": "stdout",
     "output_type": "stream",
     "text": [
      "Collecting pandas\n",
      "  Using cached pandas-2.2.2-cp311-cp311-manylinux_2_17_aarch64.manylinux2014_aarch64.whl.metadata (19 kB)\n",
      "Collecting numpy>=1.23.2 (from pandas)\n",
      "  Using cached numpy-1.26.4-cp311-cp311-manylinux_2_17_aarch64.manylinux2014_aarch64.whl.metadata (62 kB)\n",
      "Requirement already satisfied: python-dateutil>=2.8.2 in /opt/conda/lib/python3.11/site-packages (from pandas) (2.8.2)\n",
      "Requirement already satisfied: pytz>=2020.1 in /opt/conda/lib/python3.11/site-packages (from pandas) (2023.3.post1)\n",
      "Collecting tzdata>=2022.7 (from pandas)\n",
      "  Using cached tzdata-2024.1-py2.py3-none-any.whl.metadata (1.4 kB)\n",
      "Requirement already satisfied: six>=1.5 in /opt/conda/lib/python3.11/site-packages (from python-dateutil>=2.8.2->pandas) (1.16.0)\n",
      "Using cached pandas-2.2.2-cp311-cp311-manylinux_2_17_aarch64.manylinux2014_aarch64.whl (15.6 MB)\n",
      "Downloading numpy-1.26.4-cp311-cp311-manylinux_2_17_aarch64.manylinux2014_aarch64.whl (14.2 MB)\n",
      "\u001b[2K   \u001b[90m━━━━━━━━━━━━━━━━━━━━━━━━━━━━━━━━━━━━━━━━\u001b[0m \u001b[32m14.2/14.2 MB\u001b[0m \u001b[31m1.0 MB/s\u001b[0m eta \u001b[36m0:00:00\u001b[0m00:01\u001b[0m0:00:01\u001b[0m\n",
      "\u001b[?25hDownloading tzdata-2024.1-py2.py3-none-any.whl (345 kB)\n",
      "\u001b[2K   \u001b[90m━━━━━━━━━━━━━━━━━━━━━━━━━━━━━━━━━━━━━━━\u001b[0m \u001b[32m345.4/345.4 kB\u001b[0m \u001b[31m267.1 kB/s\u001b[0m eta \u001b[36m0:00:00\u001b[0ma \u001b[36m0:00:01\u001b[0m\n",
      "\u001b[?25hInstalling collected packages: tzdata, numpy, pandas\n",
      "Successfully installed numpy-1.26.4 pandas-2.2.2 tzdata-2024.1\n",
      "Note: you may need to restart the kernel to use updated packages.\n"
     ]
    }
   ],
   "source": [
    "pip install pandas"
   ]
  },
  {
   "cell_type": "code",
   "execution_count": 5,
   "id": "932cfe73-0ac8-4ded-9a1e-e395d0204dc4",
   "metadata": {},
   "outputs": [
    {
     "name": "stdout",
     "output_type": "stream",
     "text": [
      "Average rating of Harry Potter books: 4.550000000000001\n",
      "    books_count                                  authors  \\\n",
      "1           491              J.K. Rowling, Mary GrandPré   \n",
      "6           376  J.K. Rowling, Mary GrandPré, Rufus Beck   \n",
      "9           398              J.K. Rowling, Mary GrandPré   \n",
      "10          332              J.K. Rowling, Mary GrandPré   \n",
      "11          263              J.K. Rowling, Mary GrandPré   \n",
      "\n",
      "    original_publication_year                            original_title  \\\n",
      "1                      1997.0  Harry Potter and the Philosopher's Stone   \n",
      "6                      1999.0  Harry Potter and the Prisoner of Azkaban   \n",
      "9                      1998.0   Harry Potter and the Chamber of Secrets   \n",
      "10                     2000.0       Harry Potter and the Goblet of Fire   \n",
      "11                     2007.0      Harry Potter and the Deathly Hallows   \n",
      "\n",
      "                                                title language_code  \\\n",
      "1   Harry Potter and the Sorcerer's Stone (Harry P...           eng   \n",
      "6   Harry Potter and the Prisoner of Azkaban (Harr...           eng   \n",
      "9   Harry Potter and the Chamber of Secrets (Harry...           eng   \n",
      "10  Harry Potter and the Goblet of Fire (Harry Pot...           eng   \n",
      "11  Harry Potter and the Deathly Hallows (Harry Po...           eng   \n",
      "\n",
      "    average_rating  ratings_count  work_ratings_count  \\\n",
      "1             4.44        4602479             4800065   \n",
      "6             4.53        1832823             1969375   \n",
      "9             4.37        1779331             1906199   \n",
      "10            4.53        1753043             1868642   \n",
      "11            4.61        1746574             1847395   \n",
      "\n",
      "    work_text_reviews_count  ratings_1  ratings_2  ratings_3  ratings_4  \\\n",
      "1                     75867      75504     101676     455024    1156318   \n",
      "6                     36099       6716      20413     166129     509447   \n",
      "9                     34172       8253      42251     242345     548266   \n",
      "10                    31084       6676      20210     151785     494926   \n",
      "11                    51942       9363      22245     113646     383914   \n",
      "\n",
      "    ratings_5  \n",
      "1     3011543  \n",
      "6     1266670  \n",
      "9     1065084  \n",
      "10    1195045  \n",
      "11    1318227  \n"
     ]
    }
   ],
   "source": [
    "import pandas as pd\n",
    "\n",
    "# Load the dataset\n",
    "df = pd.read_csv(\"books.csv\")\n",
    "# Perform data cleaning and preprocessing\n",
    "# Handle missing values\n",
    "df.dropna(inplace=True)\n",
    "\n",
    "# Remove unnecessary columns\n",
    "df.drop(['book_id', 'goodreads_book_id', 'best_book_id', 'work_id', 'isbn', 'isbn13', 'image_url', 'small_image_url'], axis=1, inplace=True)\n",
    "\n",
    "# Filter dataset for Harry Potter series\n",
    "harry_potter_df = df[df['authors'].str.contains('J.K. Rowling') & df['title'].str.contains('Harry Potter')]\n",
    "\n",
    "# Check the filtered dataset0\n",
    "harry_potter_df.head()\n",
    "\n",
    "# Find the most selling books within the Harry Potter series\n",
    "most_selling_books = harry_potter_df.sort_values(by='ratings_count', ascending=False).head()\n",
    "\n",
    "# Display the most selling books\n",
    "most_selling_books[['title', 'authors', 'ratings_count', 'average_rating']]\n",
    "\n",
    "# Calculate the average rating of the Harry Potter books\n",
    "average_rating_hp = harry_potter_df['average_rating'].mean()\n",
    "\n",
    "# Display the average rating\n",
    "print(f\"Average rating of Harry Potter books: {average_rating_hp}\")\n",
    "print(most_selling_books)"
   ]
  }
 ],
 "metadata": {
  "kernelspec": {
   "display_name": "Python 3 (ipykernel)",
   "language": "python",
   "name": "python3"
  },
  "language_info": {
   "codemirror_mode": {
    "name": "ipython",
    "version": 3
   },
   "file_extension": ".py",
   "mimetype": "text/x-python",
   "name": "python",
   "nbconvert_exporter": "python",
   "pygments_lexer": "ipython3",
   "version": "3.11.6"
  }
 },
 "nbformat": 4,
 "nbformat_minor": 5
}
